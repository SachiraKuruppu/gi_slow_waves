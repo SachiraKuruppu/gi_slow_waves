{
 "cells": [
  {
   "cell_type": "code",
   "execution_count": null,
   "id": "b967c8a9",
   "metadata": {
    "scrolled": false
   },
   "outputs": [],
   "source": [
    "import sys\n",
    "sys.path.append('..')\n",
    "\n",
    "from pytorch_lightning import Trainer\n",
    "from sw_at_datamodule import SlowWaveATData\n",
    "from lightning_modules.resnet_sw_activation_time import ResnetSlowWaveAT\n",
    "\n",
    "model = ResnetSlowWaveAT()\n",
    "data_mod = SlowWaveATData('../data/SeqSlowWaveDataset/')\n",
    "\n",
    "trainer = Trainer(gpus=1, max_epochs=5, val_check_interval=0.25)\n",
    "trainer.fit(model, data_mod)\n",
    "\n",
    "trainer.save_checkpoint('sw_AT_model.ckpt')"
   ]
  },
  {
   "cell_type": "markdown",
   "id": "378de0ac",
   "metadata": {},
   "source": [
    "# Evaluate the model"
   ]
  },
  {
   "cell_type": "code",
   "execution_count": 3,
   "id": "9f5eef2b",
   "metadata": {},
   "outputs": [
    {
     "name": "stderr",
     "output_type": "stream",
     "text": [
      "GPU available: True, used: True\n",
      "TPU available: False, using: 0 TPU cores\n",
      "IPU available: False, using: 0 IPUs\n",
      "LOCAL_RANK: 0 - CUDA_VISIBLE_DEVICES: [0]\n"
     ]
    },
    {
     "data": {
      "application/vnd.jupyter.widget-view+json": {
       "model_id": "0a67c79779624b0096e41a08b4d75745",
       "version_major": 2,
       "version_minor": 0
      },
      "text/plain": [
       "Predicting: 0it [00:00, ?it/s]"
      ]
     },
     "metadata": {},
     "output_type": "display_data"
    }
   ],
   "source": [
    "import sys\n",
    "sys.path.append('..')\n",
    "\n",
    "from pytorch_lightning import Trainer\n",
    "from sw_at_datamodule import SlowWaveATData\n",
    "from lightning_modules.resnet_sw_activation_time import ResnetSlowWaveAT\n",
    "\n",
    "model = ResnetSlowWaveAT.load_from_checkpoint('sw_AT_model.ckpt')\n",
    "data_mod = SlowWaveATData('../data/SeqSlowWaveDataset/', batch_size=32)\n",
    "\n",
    "trainer = Trainer(gpus=1, max_epochs=5, val_check_interval=0.25)\n",
    "\n",
    "predictions = trainer.predict(model, data_mod)"
   ]
  },
  {
   "cell_type": "code",
   "execution_count": 4,
   "id": "09f176b9",
   "metadata": {
    "scrolled": false
   },
   "outputs": [
    {
     "data": {
      "text/html": [
       "<div>\n",
       "<style scoped>\n",
       "    .dataframe tbody tr th:only-of-type {\n",
       "        vertical-align: middle;\n",
       "    }\n",
       "\n",
       "    .dataframe tbody tr th {\n",
       "        vertical-align: top;\n",
       "    }\n",
       "\n",
       "    .dataframe thead th {\n",
       "        text-align: right;\n",
       "    }\n",
       "</style>\n",
       "<table border=\"1\" class=\"dataframe\">\n",
       "  <thead>\n",
       "    <tr style=\"text-align: right;\">\n",
       "      <th></th>\n",
       "      <th>Label class</th>\n",
       "      <th>Label AT</th>\n",
       "      <th>No slow wave prob</th>\n",
       "      <th>Slow wave prob</th>\n",
       "      <th>Prediction</th>\n",
       "      <th>Predicted AT</th>\n",
       "    </tr>\n",
       "  </thead>\n",
       "  <tbody>\n",
       "    <tr>\n",
       "      <th>0</th>\n",
       "      <td>1.0</td>\n",
       "      <td>3.27</td>\n",
       "      <td>6.979959e-04</td>\n",
       "      <td>0.999302</td>\n",
       "      <td>1.0</td>\n",
       "      <td>3.425495</td>\n",
       "    </tr>\n",
       "    <tr>\n",
       "      <th>1</th>\n",
       "      <td>1.0</td>\n",
       "      <td>0.97</td>\n",
       "      <td>7.352851e-07</td>\n",
       "      <td>0.999999</td>\n",
       "      <td>1.0</td>\n",
       "      <td>0.808837</td>\n",
       "    </tr>\n",
       "    <tr>\n",
       "      <th>2</th>\n",
       "      <td>0.0</td>\n",
       "      <td>-1.00</td>\n",
       "      <td>9.987551e-01</td>\n",
       "      <td>0.001245</td>\n",
       "      <td>0.0</td>\n",
       "      <td>-1.071871</td>\n",
       "    </tr>\n",
       "    <tr>\n",
       "      <th>3</th>\n",
       "      <td>1.0</td>\n",
       "      <td>0.87</td>\n",
       "      <td>7.973311e-06</td>\n",
       "      <td>0.999992</td>\n",
       "      <td>1.0</td>\n",
       "      <td>0.806020</td>\n",
       "    </tr>\n",
       "    <tr>\n",
       "      <th>4</th>\n",
       "      <td>0.0</td>\n",
       "      <td>-1.00</td>\n",
       "      <td>9.999913e-01</td>\n",
       "      <td>0.000009</td>\n",
       "      <td>0.0</td>\n",
       "      <td>-1.037143</td>\n",
       "    </tr>\n",
       "  </tbody>\n",
       "</table>\n",
       "</div>"
      ],
      "text/plain": [
       "   Label class  Label AT  No slow wave prob  Slow wave prob  Prediction  \\\n",
       "0          1.0      3.27       6.979959e-04        0.999302         1.0   \n",
       "1          1.0      0.97       7.352851e-07        0.999999         1.0   \n",
       "2          0.0     -1.00       9.987551e-01        0.001245         0.0   \n",
       "3          1.0      0.87       7.973311e-06        0.999992         1.0   \n",
       "4          0.0     -1.00       9.999913e-01        0.000009         0.0   \n",
       "\n",
       "   Predicted AT  \n",
       "0      3.425495  \n",
       "1      0.808837  \n",
       "2     -1.071871  \n",
       "3      0.806020  \n",
       "4     -1.037143  "
      ]
     },
     "execution_count": 4,
     "metadata": {},
     "output_type": "execute_result"
    }
   ],
   "source": [
    "import numpy as np\n",
    "import pandas as pd\n",
    "\n",
    "num_batches = len(predictions)\n",
    "numpy_data = np.zeros((0, 6), dtype=np.float32)\n",
    "\n",
    "for batch_indx in range(num_batches):\n",
    "    batch_size = len(predictions[0][1])\n",
    "    \n",
    "    y_class, y_AT, class_probs, y_hat_AT = predictions[batch_indx]\n",
    "    class_preds = class_probs.argmax(dim=1)\n",
    "    \n",
    "    y_class = y_class.cpu().numpy().reshape(-1, 1)\n",
    "    y_AT = y_AT.cpu().numpy().reshape(-1, 1)\n",
    "    class_probs = class_probs.cpu().numpy()\n",
    "    class_preds = class_preds.cpu().numpy().reshape(-1, 1)\n",
    "    y_hat_AT = y_hat_AT.cpu().numpy().reshape(-1, 1)\n",
    "    \n",
    "    numpy_data = np.vstack((numpy_data, np.hstack((y_class, y_AT, class_probs, class_preds, y_hat_AT))))\n",
    "    \n",
    "df = pd.DataFrame(data=numpy_data, columns=['Label class', 'Label AT', 'No slow wave prob', 'Slow wave prob', 'Prediction', 'Predicted AT'])\n",
    "df.head()"
   ]
  },
  {
   "cell_type": "markdown",
   "id": "4b92f92f",
   "metadata": {},
   "source": [
    "## Evaluate slow wave classification"
   ]
  },
  {
   "cell_type": "code",
   "execution_count": 8,
   "id": "917e2d99",
   "metadata": {},
   "outputs": [
    {
     "data": {
      "image/png": "[encoded data removed]",
      "text/plain": [
       "<Figure size 432x288 with 2 Axes>"
      ]
     },
     "metadata": {
      "needs_background": "light"
     },
     "output_type": "display_data"
    },
    {
     "name": "stdout",
     "output_type": "stream",
     "text": [
      "F1 score = 0.994180\n"
     ]
    }
   ],
   "source": [
    "import sklearn.metrics as skmetrics\n",
    "import matplotlib.pyplot as plt\n",
    "\n",
    "cm = skmetrics.confusion_matrix(df['Label class'], df['Prediction'], labels=[0, 1])\n",
    "cm_map = skmetrics.ConfusionMatrixDisplay(confusion_matrix=cm, display_labels=['No', 'Slow waves'])\n",
    "cm_map.plot()\n",
    "plt.show()\n",
    "\n",
    "f1 = skmetrics.f1_score(df['Label class'], df['Prediction'])\n",
    "print('F1 score = {:f}'.format(f1))"
   ]
  },
  {
   "cell_type": "markdown",
   "id": "65c12608",
   "metadata": {},
   "source": [
    "## Evaluate slow wave activation time (AT) prediction"
   ]
  },
  {
   "cell_type": "code",
   "execution_count": 11,
   "id": "d063a093",
   "metadata": {},
   "outputs": [
    {
     "name": "stdout",
     "output_type": "stream",
     "text": [
      "R2 score = 0.964095\n",
      "Mean absolute error = 0.129133 s\n"
     ]
    }
   ],
   "source": [
    "r2 = skmetrics.r2_score(df['Label AT'], df['Predicted AT'])\n",
    "mae = skmetrics.mean_absolute_error(df['Label AT'], df['Predicted AT'])\n",
    "\n",
    "print('R2 score = {:f}'.format(r2))\n",
    "print('Mean absolute error = {:f} s'.format(mae))"
   ]
  },
  {
   "cell_type": "markdown",
   "id": "7247ca59",
   "metadata": {},
   "source": [
    "The r2 score is close to 1. That means, our model can predict the slow wave activation time way better than just giving the mean. There is a 0.13 s error in the predicted activation times.\n",
    "\n",
    "What is the error distribution like? Do errors come from slow waves being at the edges of the scalogram?"
   ]
  },
  {
   "cell_type": "code",
   "execution_count": 29,
   "id": "052532b9",
   "metadata": {},
   "outputs": [
    {
     "data": {
      "image/png": "[encoded data removed]",
      "text/plain": [
       "<Figure size 432x288 with 1 Axes>"
      ]
     },
     "metadata": {
      "needs_background": "light"
     },
     "output_type": "display_data"
    },
    {
     "data": {
      "image/png": "[encoded data removed]",
      "text/plain": [
       "<Figure size 432x288 with 1 Axes>"
      ]
     },
     "metadata": {
      "needs_background": "light"
     },
     "output_type": "display_data"
    }
   ],
   "source": [
    "# Find the distribution of activation times in the dataset.\n",
    "\n",
    "import matplotlib.pyplot as plt\n",
    "\n",
    "label_AT = df['Label AT']\n",
    "AT_error =abs(df['Label AT'] - df['Predicted AT'])\n",
    "\n",
    "AT_error = AT_error[label_AT != -1]\n",
    "label_AT = label_AT[label_AT != -1]\n",
    "\n",
    "plt.hist(x=label_AT, bins='auto')\n",
    "plt.xlabel('Activation time (s)')\n",
    "plt.ylabel('Frequency')\n",
    "plt.title('Distribution of ATs')\n",
    "plt.show()\n",
    "\n",
    "plt.scatter(x=label_AT, y=AT_error)\n",
    "plt.xlabel('Activation time (s)')\n",
    "plt.ylabel('Absolute error (s)')\n",
    "plt.title('Distribution of errors')\n",
    "plt.show()"
   ]
  },
  {
   "cell_type": "markdown",
   "id": "a6586f5b",
   "metadata": {},
   "source": [
    "The error in activation times seems to be higher when the slow wave is closer to the edges of the scalogram.\n",
    "\n",
    "Is the error high because there are multiple slow waves in the scalogram?"
   ]
  },
  {
   "cell_type": "code",
   "execution_count": null,
   "id": "64ae353b",
   "metadata": {},
   "outputs": [],
   "source": []
  }
 ],
 "metadata": {
  "kernelspec": {
   "display_name": "Python 3 (ipykernel)",
   "language": "python",
   "name": "python3"
  },
  "language_info": {
   "codemirror_mode": {
    "name": "ipython",
    "version": 3
   },
   "file_extension": ".py",
   "mimetype": "text/x-python",
   "name": "python",
   "nbconvert_exporter": "python",
   "pygments_lexer": "ipython3",
   "version": "3.9.7"
  },
  "toc": {
   "base_numbering": 1,
   "nav_menu": {},
   "number_sections": true,
   "sideBar": true,
   "skip_h1_title": false,
   "title_cell": "Table of Contents",
   "title_sidebar": "Contents",
   "toc_cell": false,
   "toc_position": {},
   "toc_section_display": true,
   "toc_window_display": false
  }
 },
 "nbformat": 4,
 "nbformat_minor": 5
}
