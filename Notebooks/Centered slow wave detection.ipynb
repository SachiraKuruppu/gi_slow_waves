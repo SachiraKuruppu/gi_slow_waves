{
 "cells": [
  {
   "cell_type": "code",
   "execution_count": null,
   "id": "4df26578",
   "metadata": {
    "scrolled": true
   },
   "outputs": [],
   "source": [
    "import sys\n",
    "sys.path.append('..')\n",
    "\n",
    "from pytorch_lightning import Trainer\n",
    "from data_modules.sw_detection_datamodule import SlowWaveDetectionData\n",
    "from lightning_modules.resnet_sw_detect import ResnetSlowWave\n",
    "\n",
    "\n",
    "model = ResnetSlowWave()\n",
    "data_mod = SlowWaveDetectionData('../data/centered_data/', batch_size=16)\n",
    "\n",
    "trainer = Trainer(progress_bar_refresh_rate=20, gpus=1, max_epochs=5, val_check_interval=0.25)"
   ]
  },
  {
   "cell_type": "code",
   "execution_count": null,
   "id": "64af31a8",
   "metadata": {
    "scrolled": false
   },
   "outputs": [],
   "source": [
    "trainer.fit(model, data_mod)\n",
    "\n",
    "# Save the model\n",
    "trainer.save_checkpoint('centered_sw_model.ckpt')"
   ]
  },
  {
   "cell_type": "markdown",
   "id": "268b1bb7",
   "metadata": {},
   "source": [
    "# Evaluate the model\n",
    "\n",
    "Analyse how the model performs on the validation and training datasets. The following cell loads a pre-trained model. Skip if training."
   ]
  },
  {
   "cell_type": "code",
   "execution_count": 1,
   "id": "63ddaf72",
   "metadata": {},
   "outputs": [
    {
     "name": "stderr",
     "output_type": "stream",
     "text": [
      "/home/rsach/miniconda3/envs/pytorch/lib/python3.9/site-packages/pytorch_lightning/trainer/connectors/callback_connector.py:90: LightningDeprecationWarning: Setting `Trainer(progress_bar_refresh_rate=20)` is deprecated in v1.5 and will be removed in v1.7. Please pass `pytorch_lightning.callbacks.progress.TQDMProgressBar` with `refresh_rate` directly to the Trainer's `callbacks` argument instead. Or, to disable the progress bar pass `enable_progress_bar = False` to the Trainer.\n",
      "  rank_zero_deprecation(\n",
      "GPU available: True, used: True\n",
      "TPU available: False, using: 0 TPU cores\n",
      "IPU available: False, using: 0 IPUs\n"
     ]
    }
   ],
   "source": [
    "import sys\n",
    "sys.path.append('..')\n",
    "\n",
    "from pytorch_lightning import Trainer\n",
    "from data_modules.sw_detection_datamodule import SlowWaveDetectionData\n",
    "from lightning_modules.resnet_sw_detect import ResnetSlowWave\n",
    "\n",
    "model = ResnetSlowWave.load_from_checkpoint('../saved_models/centered_sw_model.ckpt')\n",
    "data_mod = SlowWaveDetectionData('../data/centered_data/', batch_size=1)\n",
    "\n",
    "trainer = Trainer(progress_bar_refresh_rate=20, gpus=1, max_epochs=5, val_check_interval=0.25)"
   ]
  },
  {
   "cell_type": "code",
   "execution_count": 2,
   "id": "a65f749a",
   "metadata": {},
   "outputs": [
    {
     "name": "stderr",
     "output_type": "stream",
     "text": [
      "LOCAL_RANK: 0 - CUDA_VISIBLE_DEVICES: [0]\n"
     ]
    },
    {
     "data": {
      "application/vnd.jupyter.widget-view+json": {
       "model_id": "53489bc848f64238829dd590fc3191a6",
       "version_major": 2,
       "version_minor": 0
      },
      "text/plain": [
       "Predicting: 0it [00:00, ?it/s]"
      ]
     },
     "metadata": {},
     "output_type": "display_data"
    },
    {
     "data": {
      "text/html": [
       "<div>\n",
       "<style scoped>\n",
       "    .dataframe tbody tr th:only-of-type {\n",
       "        vertical-align: middle;\n",
       "    }\n",
       "\n",
       "    .dataframe tbody tr th {\n",
       "        vertical-align: top;\n",
       "    }\n",
       "\n",
       "    .dataframe thead th {\n",
       "        text-align: right;\n",
       "    }\n",
       "</style>\n",
       "<table border=\"1\" class=\"dataframe\">\n",
       "  <thead>\n",
       "    <tr style=\"text-align: right;\">\n",
       "      <th></th>\n",
       "      <th>Label</th>\n",
       "      <th>No slow wave prob</th>\n",
       "      <th>Slow wave prob</th>\n",
       "      <th>Prediction</th>\n",
       "    </tr>\n",
       "  </thead>\n",
       "  <tbody>\n",
       "    <tr>\n",
       "      <th>0</th>\n",
       "      <td>0.0</td>\n",
       "      <td>0.938963</td>\n",
       "      <td>0.061037</td>\n",
       "      <td>0.0</td>\n",
       "    </tr>\n",
       "    <tr>\n",
       "      <th>1</th>\n",
       "      <td>0.0</td>\n",
       "      <td>0.973910</td>\n",
       "      <td>0.026090</td>\n",
       "      <td>0.0</td>\n",
       "    </tr>\n",
       "    <tr>\n",
       "      <th>2</th>\n",
       "      <td>0.0</td>\n",
       "      <td>0.975764</td>\n",
       "      <td>0.024236</td>\n",
       "      <td>0.0</td>\n",
       "    </tr>\n",
       "    <tr>\n",
       "      <th>3</th>\n",
       "      <td>0.0</td>\n",
       "      <td>0.981771</td>\n",
       "      <td>0.018229</td>\n",
       "      <td>0.0</td>\n",
       "    </tr>\n",
       "    <tr>\n",
       "      <th>4</th>\n",
       "      <td>0.0</td>\n",
       "      <td>0.990224</td>\n",
       "      <td>0.009776</td>\n",
       "      <td>0.0</td>\n",
       "    </tr>\n",
       "  </tbody>\n",
       "</table>\n",
       "</div>"
      ],
      "text/plain": [
       "   Label  No slow wave prob  Slow wave prob  Prediction\n",
       "0    0.0           0.938963        0.061037         0.0\n",
       "1    0.0           0.973910        0.026090         0.0\n",
       "2    0.0           0.975764        0.024236         0.0\n",
       "3    0.0           0.981771        0.018229         0.0\n",
       "4    0.0           0.990224        0.009776         0.0"
      ]
     },
     "execution_count": 2,
     "metadata": {},
     "output_type": "execute_result"
    }
   ],
   "source": [
    "import numpy as np\n",
    "import pandas as pd\n",
    "\n",
    "predictions = trainer.predict(model, data_mod)\n",
    "\n",
    "num_batches = len(predictions)\n",
    "numpy_data = np.zeros((0, 4), dtype=np.float32)\n",
    "\n",
    "for batch_indx in range(num_batches):\n",
    "    batch_size = len(predictions[0][1])\n",
    "    \n",
    "    y, probs = predictions[batch_indx]\n",
    "    preds = probs.argmax(dim=1)\n",
    "    \n",
    "    y = y.cpu().numpy().reshape(-1, 1)\n",
    "    probs = probs.cpu().numpy()\n",
    "    preds = preds.cpu().numpy().reshape(-1, 1)\n",
    "    \n",
    "    numpy_data = np.vstack((numpy_data, np.hstack((y, probs, preds))))\n",
    "    \n",
    "df = pd.DataFrame(data=numpy_data, columns=['Label', 'No slow wave prob', 'Slow wave prob', 'Prediction'])\n",
    "df.head()"
   ]
  },
  {
   "cell_type": "markdown",
   "id": "008962fa",
   "metadata": {},
   "source": [
    "Plot the confusion matrix to see how the model is doing."
   ]
  },
  {
   "cell_type": "code",
   "execution_count": 3,
   "id": "b188a98e",
   "metadata": {},
   "outputs": [
    {
     "data": {
      "image/png": "[encoded data removed]",
      "text/plain": [
       "<Figure size 432x288 with 2 Axes>"
      ]
     },
     "metadata": {
      "needs_background": "light"
     },
     "output_type": "display_data"
    },
    {
     "name": "stdout",
     "output_type": "stream",
     "text": [
      "F1 score = 0.908163\n"
     ]
    }
   ],
   "source": [
    "import sklearn.metrics as skmetrics\n",
    "import matplotlib.pyplot as plt\n",
    "\n",
    "cm = skmetrics.confusion_matrix(df['Label'], df['Prediction'], labels=[0, 1])\n",
    "cm_map = skmetrics.ConfusionMatrixDisplay(confusion_matrix=cm, display_labels=['No', 'Slow waves'])\n",
    "cm_map.plot()\n",
    "plt.show()\n",
    "\n",
    "f1 = skmetrics.f1_score(df['Label'], df['Prediction'])\n",
    "print('F1 score = {:f}'.format(f1))"
   ]
  },
  {
   "cell_type": "markdown",
   "id": "49b49532",
   "metadata": {},
   "source": [
    "We can detect centered slow waves. Let's see if we can calculate the slow wave activation time in the next model."
   ]
  },
  {
   "cell_type": "code",
   "execution_count": null,
   "id": "8c47a2c7",
   "metadata": {},
   "outputs": [],
   "source": []
  }
 ],
 "metadata": {
  "kernelspec": {
   "display_name": "Python 3 (ipykernel)",
   "language": "python",
   "name": "python3"
  },
  "language_info": {
   "codemirror_mode": {
    "name": "ipython",
    "version": 3
   },
   "file_extension": ".py",
   "mimetype": "text/x-python",
   "name": "python",
   "nbconvert_exporter": "python",
   "pygments_lexer": "ipython3",
   "version": "3.9.7"
  },
  "toc": {
   "base_numbering": 1,
   "nav_menu": {},
   "number_sections": true,
   "sideBar": true,
   "skip_h1_title": false,
   "title_cell": "Table of Contents",
   "title_sidebar": "Contents",
   "toc_cell": false,
   "toc_position": {},
   "toc_section_display": true,
   "toc_window_display": false
  }
 },
 "nbformat": 4,
 "nbformat_minor": 5
}
